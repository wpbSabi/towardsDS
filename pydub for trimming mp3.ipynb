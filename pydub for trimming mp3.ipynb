{
 "cells": [
  {
   "cell_type": "markdown",
   "metadata": {},
   "source": [
    "# Setup\n",
    "For installation tips, read https://github.com/jiaaro/pydub\n",
    "e.g.\n",
    "1. brew install ffmpeg\n",
    "2. pip install pydub"
   ]
  },
  {
   "cell_type": "code",
   "execution_count": null,
   "metadata": {
    "ExecuteTime": {
     "end_time": "2022-12-26T00:57:59.302078Z",
     "start_time": "2022-12-26T00:57:58.615038Z"
    }
   },
   "outputs": [],
   "source": [
    "from pydub import AudioSegment\n",
    "\n",
    "# Importing the mp3 file from its location\n",
    "song = AudioSegment.from_mp3('files/song_original.mp3')"
   ]
  },
  {
   "cell_type": "code",
   "execution_count": null,
   "metadata": {
    "ExecuteTime": {
     "end_time": "2022-12-26T00:58:03.213166Z",
     "start_time": "2022-12-26T00:57:59.306385Z"
    }
   },
   "outputs": [],
   "source": [
    "# Play the song to determine where you want to do\n",
    "song"
   ]
  },
  {
   "cell_type": "markdown",
   "metadata": {},
   "source": [
    "# Trim the song"
   ]
  },
  {
   "cell_type": "code",
   "execution_count": null,
   "metadata": {
    "ExecuteTime": {
     "end_time": "2022-12-26T00:58:07.271855Z",
     "start_time": "2022-12-26T00:58:03.220119Z"
    }
   },
   "outputs": [],
   "source": [
    "# In this case, I want to remove the first ~5 seconds of silence (i.e. 5000 milliseconds)\n",
    "song[5.5*1000:]"
   ]
  },
  {
   "cell_type": "code",
   "execution_count": null,
   "metadata": {
    "ExecuteTime": {
     "end_time": "2022-12-26T00:58:07.338430Z",
     "start_time": "2022-12-26T00:58:07.276876Z"
    }
   },
   "outputs": [],
   "source": [
    "# That test worked well to narrow in on the first 5.5 seconds as what works well for me\n",
    "beginning_removed = song[5.5*1000:]"
   ]
  },
  {
   "cell_type": "code",
   "execution_count": null,
   "metadata": {
    "ExecuteTime": {
     "end_time": "2022-12-26T00:58:07.345279Z",
     "start_time": "2022-12-26T00:58:07.340579Z"
    }
   },
   "outputs": [],
   "source": [
    "# I also want to cut out about the last second at the end of the song\n",
    "remove_last_second = ((3 * 60) + 47) - 1\n",
    "print(remove_last_second)"
   ]
  },
  {
   "cell_type": "code",
   "execution_count": null,
   "metadata": {
    "ExecuteTime": {
     "end_time": "2022-12-26T00:58:11.488354Z",
     "start_time": "2022-12-26T00:58:07.358051Z"
    }
   },
   "outputs": [],
   "source": [
    "# Test out what the song sounds like at the end\n",
    "beginning_removed[:remove_last_second*1000]"
   ]
  },
  {
   "cell_type": "code",
   "execution_count": null,
   "metadata": {
    "ExecuteTime": {
     "end_time": "2022-12-26T00:58:44.665618Z",
     "start_time": "2022-12-26T00:58:44.631136Z"
    }
   },
   "outputs": [],
   "source": [
    "# That worked well enough for me.  Now I'll export the trimmed mp3\n",
    "final_cut = beginning_removed[:remove_last_second*1000]\n",
    "final_cut.export('files/song_trimmed.mp3', format=\"mp3\")"
   ]
  },
  {
   "cell_type": "markdown",
   "metadata": {},
   "source": [
    "# Bonus: Modify the decibels and fade out"
   ]
  },
  {
   "cell_type": "code",
   "execution_count": null,
   "metadata": {
    "ExecuteTime": {
     "end_time": "2022-12-26T00:58:15.853116Z",
     "start_time": "2022-12-26T00:58:11.532763Z"
    }
   },
   "outputs": [],
   "source": [
    "# boost volume by 10 decibels\n",
    "final_cut + 10"
   ]
  },
  {
   "cell_type": "code",
   "execution_count": null,
   "metadata": {
    "ExecuteTime": {
     "end_time": "2022-12-26T00:58:19.904604Z",
     "start_time": "2022-12-26T00:58:15.857255Z"
    }
   },
   "outputs": [],
   "source": [
    "# reduce volume by 10 decibels\n",
    "final_cut - 10"
   ]
  },
  {
   "cell_type": "code",
   "execution_count": null,
   "metadata": {
    "ExecuteTime": {
     "end_time": "2022-12-26T00:58:41.031977Z",
     "start_time": "2022-12-26T00:58:36.891187Z"
    }
   },
   "outputs": [],
   "source": [
    "# 5 second fade out at the end\n",
    "final_cut.fade_out(5000)"
   ]
  }
 ],
 "metadata": {
  "kernelspec": {
   "display_name": "Python 3",
   "language": "python",
   "name": "python3"
  },
  "language_info": {
   "codemirror_mode": {
    "name": "ipython",
    "version": 3
   },
   "file_extension": ".py",
   "mimetype": "text/x-python",
   "name": "python",
   "nbconvert_exporter": "python",
   "pygments_lexer": "ipython3",
   "version": "3.8.3"
  }
 },
 "nbformat": 4,
 "nbformat_minor": 4
}
